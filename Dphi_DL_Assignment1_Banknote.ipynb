{
  "nbformat": 4,
  "nbformat_minor": 0,
  "metadata": {
    "colab": {
      "name": "Dphi_DL_Assignment1_Banknote.ipynb",
      "provenance": []
    },
    "kernelspec": {
      "name": "python3",
      "display_name": "Python 3"
    }
  },
  "cells": [
    {
      "cell_type": "markdown",
      "metadata": {
        "id": "jdpnSxX9-LMn"
      },
      "source": [
        "# Deep Learning Bootcamp - Assignment 1 - Beginners: BankNote\n",
        "**Predict if a note is genuine or not**\n",
        "\n",
        "# Objective\n",
        "\n",
        "Being a Data Science Enthusiast, you committed yourself to use the power of Data Science and come up with an efficient model that accurately predicts if a note is genuine or not.\n",
        "\n",
        "**Evaluation Criteria**\n",
        "\n",
        "Submissions are evaluated using Accuracy Score. \n",
        "\n",
        "*Data Description*\n",
        "\n",
        "*   VWTI: Variance of Wavelet Transformed Image\n",
        "*   SWTI: Skewness of Wavelet Transformed Image\n",
        "*   CWTI: Curtosis of Wavelet Transformed Image\n",
        "*   EI: Entropy of Image\n",
        "*   Class: Class (1: genuine, 0: forged)\n",
        "\n",
        "\n",
        "\n"
      ]
    },
    {
      "cell_type": "code",
      "metadata": {
        "id": "HFh45Y0awkOm",
        "outputId": "956ceeb7-a47b-4970-fe36-685f5898ffb8",
        "colab": {
          "base_uri": "https://localhost:8080/",
          "height": 72
        }
      },
      "source": [
        "import numpy as np\n",
        "import pandas as pd\n",
        "import matplotlib.pyplot as plt\n",
        "%matplotlib inline\n",
        "from IPython.display import display, HTML, display_html\n",
        "import seaborn as sns\n",
        "import datetime\n"
      ],
      "execution_count": null,
      "outputs": [
        {
          "output_type": "stream",
          "text": [
            "/usr/local/lib/python3.6/dist-packages/statsmodels/tools/_testing.py:19: FutureWarning: pandas.util.testing is deprecated. Use the functions in the public API at pandas.testing instead.\n",
            "  import pandas.util.testing as tm\n"
          ],
          "name": "stderr"
        }
      ]
    },
    {
      "cell_type": "code",
      "metadata": {
        "id": "y-0OAq4w-FDc"
      },
      "source": [
        "#Load Dataset\n",
        "bank_note_data = pd.read_csv(\"https://raw.githubusercontent.com/dphi-official/Datasets/master/bank_note_data/training_set_label.csv\" )"
      ],
      "execution_count": null,
      "outputs": []
    },
    {
      "cell_type": "code",
      "metadata": {
        "id": "JhjnQdtw-0wb",
        "outputId": "73632456-63d5-4a5a-95ff-da1a4a701147",
        "colab": {
          "base_uri": "https://localhost:8080/",
          "height": 406
        }
      },
      "source": [
        "bank_note_data"
      ],
      "execution_count": null,
      "outputs": [
        {
          "output_type": "execute_result",
          "data": {
            "text/html": [
              "<div>\n",
              "<style scoped>\n",
              "    .dataframe tbody tr th:only-of-type {\n",
              "        vertical-align: middle;\n",
              "    }\n",
              "\n",
              "    .dataframe tbody tr th {\n",
              "        vertical-align: top;\n",
              "    }\n",
              "\n",
              "    .dataframe thead th {\n",
              "        text-align: right;\n",
              "    }\n",
              "</style>\n",
              "<table border=\"1\" class=\"dataframe\">\n",
              "  <thead>\n",
              "    <tr style=\"text-align: right;\">\n",
              "      <th></th>\n",
              "      <th>VWTI</th>\n",
              "      <th>SWTI</th>\n",
              "      <th>CWTI</th>\n",
              "      <th>EI</th>\n",
              "      <th>Class</th>\n",
              "    </tr>\n",
              "  </thead>\n",
              "  <tbody>\n",
              "    <tr>\n",
              "      <th>0</th>\n",
              "      <td>2.263400</td>\n",
              "      <td>-4.4862</td>\n",
              "      <td>3.65580</td>\n",
              "      <td>-0.612510</td>\n",
              "      <td>0</td>\n",
              "    </tr>\n",
              "    <tr>\n",
              "      <th>1</th>\n",
              "      <td>3.271800</td>\n",
              "      <td>1.7837</td>\n",
              "      <td>2.11610</td>\n",
              "      <td>0.613340</td>\n",
              "      <td>0</td>\n",
              "    </tr>\n",
              "    <tr>\n",
              "      <th>2</th>\n",
              "      <td>-3.941100</td>\n",
              "      <td>-12.8792</td>\n",
              "      <td>13.05970</td>\n",
              "      <td>-3.312500</td>\n",
              "      <td>1</td>\n",
              "    </tr>\n",
              "    <tr>\n",
              "      <th>3</th>\n",
              "      <td>0.519500</td>\n",
              "      <td>-3.2633</td>\n",
              "      <td>3.08950</td>\n",
              "      <td>-0.984900</td>\n",
              "      <td>0</td>\n",
              "    </tr>\n",
              "    <tr>\n",
              "      <th>4</th>\n",
              "      <td>2.569800</td>\n",
              "      <td>-4.4076</td>\n",
              "      <td>5.98560</td>\n",
              "      <td>0.078002</td>\n",
              "      <td>0</td>\n",
              "    </tr>\n",
              "    <tr>\n",
              "      <th>...</th>\n",
              "      <td>...</td>\n",
              "      <td>...</td>\n",
              "      <td>...</td>\n",
              "      <td>...</td>\n",
              "      <td>...</td>\n",
              "    </tr>\n",
              "    <tr>\n",
              "      <th>1091</th>\n",
              "      <td>1.640600</td>\n",
              "      <td>3.5488</td>\n",
              "      <td>1.39640</td>\n",
              "      <td>-0.364240</td>\n",
              "      <td>0</td>\n",
              "    </tr>\n",
              "    <tr>\n",
              "      <th>1092</th>\n",
              "      <td>-0.048008</td>\n",
              "      <td>-1.6037</td>\n",
              "      <td>8.47560</td>\n",
              "      <td>0.755580</td>\n",
              "      <td>0</td>\n",
              "    </tr>\n",
              "    <tr>\n",
              "      <th>1093</th>\n",
              "      <td>2.942100</td>\n",
              "      <td>7.4101</td>\n",
              "      <td>-0.97709</td>\n",
              "      <td>-0.884060</td>\n",
              "      <td>0</td>\n",
              "    </tr>\n",
              "    <tr>\n",
              "      <th>1094</th>\n",
              "      <td>1.964700</td>\n",
              "      <td>6.9383</td>\n",
              "      <td>0.57722</td>\n",
              "      <td>0.663770</td>\n",
              "      <td>0</td>\n",
              "    </tr>\n",
              "    <tr>\n",
              "      <th>1095</th>\n",
              "      <td>-0.126240</td>\n",
              "      <td>10.3216</td>\n",
              "      <td>-3.71210</td>\n",
              "      <td>-6.118500</td>\n",
              "      <td>0</td>\n",
              "    </tr>\n",
              "  </tbody>\n",
              "</table>\n",
              "<p>1096 rows × 5 columns</p>\n",
              "</div>"
            ],
            "text/plain": [
              "          VWTI     SWTI      CWTI        EI  Class\n",
              "0     2.263400  -4.4862   3.65580 -0.612510      0\n",
              "1     3.271800   1.7837   2.11610  0.613340      0\n",
              "2    -3.941100 -12.8792  13.05970 -3.312500      1\n",
              "3     0.519500  -3.2633   3.08950 -0.984900      0\n",
              "4     2.569800  -4.4076   5.98560  0.078002      0\n",
              "...        ...      ...       ...       ...    ...\n",
              "1091  1.640600   3.5488   1.39640 -0.364240      0\n",
              "1092 -0.048008  -1.6037   8.47560  0.755580      0\n",
              "1093  2.942100   7.4101  -0.97709 -0.884060      0\n",
              "1094  1.964700   6.9383   0.57722  0.663770      0\n",
              "1095 -0.126240  10.3216  -3.71210 -6.118500      0\n",
              "\n",
              "[1096 rows x 5 columns]"
            ]
          },
          "metadata": {
            "tags": []
          },
          "execution_count": 3
        }
      ]
    },
    {
      "cell_type": "code",
      "metadata": {
        "id": "8duGtTnr_A1m",
        "outputId": "bc15ad8c-cd38-49dc-b519-5939def10f78",
        "colab": {
          "base_uri": "https://localhost:8080/",
          "height": 287
        }
      },
      "source": [
        "bank_note_data.describe()"
      ],
      "execution_count": null,
      "outputs": [
        {
          "output_type": "execute_result",
          "data": {
            "text/html": [
              "<div>\n",
              "<style scoped>\n",
              "    .dataframe tbody tr th:only-of-type {\n",
              "        vertical-align: middle;\n",
              "    }\n",
              "\n",
              "    .dataframe tbody tr th {\n",
              "        vertical-align: top;\n",
              "    }\n",
              "\n",
              "    .dataframe thead th {\n",
              "        text-align: right;\n",
              "    }\n",
              "</style>\n",
              "<table border=\"1\" class=\"dataframe\">\n",
              "  <thead>\n",
              "    <tr style=\"text-align: right;\">\n",
              "      <th></th>\n",
              "      <th>VWTI</th>\n",
              "      <th>SWTI</th>\n",
              "      <th>CWTI</th>\n",
              "      <th>EI</th>\n",
              "      <th>Class</th>\n",
              "    </tr>\n",
              "  </thead>\n",
              "  <tbody>\n",
              "    <tr>\n",
              "      <th>count</th>\n",
              "      <td>1096.000000</td>\n",
              "      <td>1096.000000</td>\n",
              "      <td>1096.000000</td>\n",
              "      <td>1096.000000</td>\n",
              "      <td>1096.000000</td>\n",
              "    </tr>\n",
              "    <tr>\n",
              "      <th>mean</th>\n",
              "      <td>0.448500</td>\n",
              "      <td>1.780643</td>\n",
              "      <td>1.493533</td>\n",
              "      <td>-1.157454</td>\n",
              "      <td>0.445255</td>\n",
              "    </tr>\n",
              "    <tr>\n",
              "      <th>std</th>\n",
              "      <td>2.852623</td>\n",
              "      <td>5.922621</td>\n",
              "      <td>4.375655</td>\n",
              "      <td>2.084983</td>\n",
              "      <td>0.497221</td>\n",
              "    </tr>\n",
              "    <tr>\n",
              "      <th>min</th>\n",
              "      <td>-7.036400</td>\n",
              "      <td>-13.773100</td>\n",
              "      <td>-5.286100</td>\n",
              "      <td>-8.548200</td>\n",
              "      <td>0.000000</td>\n",
              "    </tr>\n",
              "    <tr>\n",
              "      <th>25%</th>\n",
              "      <td>-1.790850</td>\n",
              "      <td>-2.125200</td>\n",
              "      <td>-1.574975</td>\n",
              "      <td>-2.246975</td>\n",
              "      <td>0.000000</td>\n",
              "    </tr>\n",
              "    <tr>\n",
              "      <th>50%</th>\n",
              "      <td>0.540430</td>\n",
              "      <td>2.205850</td>\n",
              "      <td>0.671900</td>\n",
              "      <td>-0.569190</td>\n",
              "      <td>0.000000</td>\n",
              "    </tr>\n",
              "    <tr>\n",
              "      <th>75%</th>\n",
              "      <td>2.835350</td>\n",
              "      <td>6.793925</td>\n",
              "      <td>3.574450</td>\n",
              "      <td>0.399980</td>\n",
              "      <td>1.000000</td>\n",
              "    </tr>\n",
              "    <tr>\n",
              "      <th>max</th>\n",
              "      <td>6.563300</td>\n",
              "      <td>12.730200</td>\n",
              "      <td>17.927400</td>\n",
              "      <td>2.449500</td>\n",
              "      <td>1.000000</td>\n",
              "    </tr>\n",
              "  </tbody>\n",
              "</table>\n",
              "</div>"
            ],
            "text/plain": [
              "              VWTI         SWTI         CWTI           EI        Class\n",
              "count  1096.000000  1096.000000  1096.000000  1096.000000  1096.000000\n",
              "mean      0.448500     1.780643     1.493533    -1.157454     0.445255\n",
              "std       2.852623     5.922621     4.375655     2.084983     0.497221\n",
              "min      -7.036400   -13.773100    -5.286100    -8.548200     0.000000\n",
              "25%      -1.790850    -2.125200    -1.574975    -2.246975     0.000000\n",
              "50%       0.540430     2.205850     0.671900    -0.569190     0.000000\n",
              "75%       2.835350     6.793925     3.574450     0.399980     1.000000\n",
              "max       6.563300    12.730200    17.927400     2.449500     1.000000"
            ]
          },
          "metadata": {
            "tags": []
          },
          "execution_count": 4
        }
      ]
    },
    {
      "cell_type": "code",
      "metadata": {
        "id": "RxWo8rtc_IQC",
        "outputId": "27156c40-f056-4e78-cd50-d3a28aa8997c",
        "colab": {
          "base_uri": "https://localhost:8080/",
          "height": 123
        }
      },
      "source": [
        "bank_note_data.dtypes"
      ],
      "execution_count": null,
      "outputs": [
        {
          "output_type": "execute_result",
          "data": {
            "text/plain": [
              "VWTI     float64\n",
              "SWTI     float64\n",
              "CWTI     float64\n",
              "EI       float64\n",
              "Class      int64\n",
              "dtype: object"
            ]
          },
          "metadata": {
            "tags": []
          },
          "execution_count": 5
        }
      ]
    },
    {
      "cell_type": "markdown",
      "metadata": {
        "id": "NW8fNOK_BUXs"
      },
      "source": [
        "**Since the dataset is not null and datatype is float and int , preprocessing is not required.**"
      ]
    },
    {
      "cell_type": "markdown",
      "metadata": {
        "id": "RtCiC2M2_Q11"
      },
      "source": [
        "# Separating Input Features and Output Features"
      ]
    },
    {
      "cell_type": "code",
      "metadata": {
        "id": "D7F3FWf4_XYO"
      },
      "source": [
        "X = bank_note_data.drop('Class', axis = 1)    # Input Variables/features\n",
        "y = bank_note_data.Class      # output variables/features"
      ],
      "execution_count": null,
      "outputs": []
    },
    {
      "cell_type": "markdown",
      "metadata": {
        "id": "CUxJ_7Ry_l0_"
      },
      "source": [
        "# Splitting the data"
      ]
    },
    {
      "cell_type": "code",
      "metadata": {
        "id": "YOdXvbAu_nOA"
      },
      "source": [
        "# import train_test_split\n",
        "from sklearn.model_selection import train_test_split \n",
        "\n",
        "# Assign variables to capture train test split output\n",
        "X_train, X_test, y_train, y_test = train_test_split(X, y, test_size=0.2, random_state=42)"
      ],
      "execution_count": null,
      "outputs": []
    },
    {
      "cell_type": "code",
      "metadata": {
        "id": "ChSf9eei_wJ7",
        "outputId": "e6adcb35-c7fd-4a3c-9f4e-a602798dbefc",
        "colab": {
          "base_uri": "https://localhost:8080/",
          "height": 34
        }
      },
      "source": [
        "# find the number of input features\n",
        "n_features = X.shape[1]\n",
        "print(n_features)"
      ],
      "execution_count": null,
      "outputs": [
        {
          "output_type": "stream",
          "text": [
            "4\n"
          ],
          "name": "stdout"
        }
      ]
    },
    {
      "cell_type": "markdown",
      "metadata": {
        "id": "cqsDMXrI_1gc"
      },
      "source": [
        "# Training our model\n",
        "\n",
        "**The 5 Step Model Life-Cycle**\n",
        "\n",
        "A model has a life-cycle, and this very simple knowledge provides the backbone for both modeling a dataset and understanding the tf.keras API.\n",
        "\n",
        "The five steps in the life-cycle are as follows:\n",
        "\n",
        "Define the model.\n",
        "\n",
        "Compile the model.\n",
        "\n",
        "Fit the model.\n",
        "\n",
        "Make predictions on the test data.\n",
        "\n",
        "Evaluate the model.\n"
      ]
    },
    {
      "cell_type": "markdown",
      "metadata": {
        "id": "NLuMHEK9AM37"
      },
      "source": [
        "**1. Define the model**"
      ]
    },
    {
      "cell_type": "code",
      "metadata": {
        "id": "t2OUr48r_38F"
      },
      "source": [
        "from tensorflow.keras import Sequential    # import Sequential from tensorflow.keras\n",
        "from tensorflow.keras.layers import Dense  # import Dense from tensorflow.keras.layers\n",
        "from numpy.random import seed     # seed helps you to fix the randomness in the neural network.  \n",
        "import tensorflow"
      ],
      "execution_count": null,
      "outputs": []
    },
    {
      "cell_type": "markdown",
      "metadata": {
        "id": "PzAtDr74B6Pv"
      },
      "source": [
        "**I have used 1 hidden layer with 8 preceptrons and activation method as relu for both input and hidden layer. For output layer, sigmoid is used**"
      ]
    },
    {
      "cell_type": "code",
      "metadata": {
        "id": "fLcKnRtMAbuL"
      },
      "source": [
        "# define the model\n",
        "model = Sequential()\n",
        "model.add(Dense(10, activation='relu', input_shape=(n_features,)))\n",
        "model.add(Dense(8, activation='relu'))\n",
        "model.add(Dense(1,activation='sigmoid'))"
      ],
      "execution_count": null,
      "outputs": []
    },
    {
      "cell_type": "code",
      "metadata": {
        "id": "sHQ8q9DCDvVJ",
        "outputId": "53056072-5bf3-4b40-ca8f-a6b958f5ec8a",
        "colab": {
          "base_uri": "https://localhost:8080/",
          "height": 265
        }
      },
      "source": [
        "model.summary()"
      ],
      "execution_count": null,
      "outputs": [
        {
          "output_type": "stream",
          "text": [
            "Model: \"sequential\"\n",
            "_________________________________________________________________\n",
            "Layer (type)                 Output Shape              Param #   \n",
            "=================================================================\n",
            "dense (Dense)                (None, 10)                50        \n",
            "_________________________________________________________________\n",
            "dense_1 (Dense)              (None, 8)                 88        \n",
            "_________________________________________________________________\n",
            "dense_2 (Dense)              (None, 1)                 9         \n",
            "=================================================================\n",
            "Total params: 147\n",
            "Trainable params: 147\n",
            "Non-trainable params: 0\n",
            "_________________________________________________________________\n"
          ],
          "name": "stdout"
        }
      ]
    },
    {
      "cell_type": "markdown",
      "metadata": {
        "id": "X4MIXzT7A-yl"
      },
      "source": [
        "**2. Compile the model**"
      ]
    },
    {
      "cell_type": "code",
      "metadata": {
        "id": "d66YlEFzBCE3"
      },
      "source": [
        "# import RMSprop optimizer\n",
        "from tensorflow.keras.optimizers import RMSprop\n",
        "optimizer = RMSprop(0.01)    # 0.01 is the learning rate"
      ],
      "execution_count": null,
      "outputs": []
    },
    {
      "cell_type": "code",
      "metadata": {
        "id": "ef4I-PUTBP0J"
      },
      "source": [
        "model.compile(optimizer='adam',loss='binary_crossentropy',\n",
        "              metrics=['accuracy'])    # compile the model"
      ],
      "execution_count": null,
      "outputs": []
    },
    {
      "cell_type": "markdown",
      "metadata": {
        "id": "w9VZAQumBZot"
      },
      "source": [
        "**3. Fitting the model**"
      ]
    },
    {
      "cell_type": "code",
      "metadata": {
        "id": "uu-flERqBcQ_",
        "outputId": "60730b53-8782-4ce4-98ba-cc10be7ec28d",
        "colab": {
          "base_uri": "https://localhost:8080/",
          "height": 745
        }
      },
      "source": [
        "\n",
        "# 4. Set the `tensorflow` pseudo-random generator at a fixed value\n",
        "#tensorflow.random.set_seed(seed_value) \n",
        "model.fit(X_train, y_train, epochs=20, batch_size=30)    # fit the model"
      ],
      "execution_count": null,
      "outputs": [
        {
          "output_type": "stream",
          "text": [
            "Epoch 1/20\n",
            "30/30 [==============================] - 0s 1ms/step - loss: 0.8831 - accuracy: 0.4795\n",
            "Epoch 2/20\n",
            "30/30 [==============================] - 0s 983us/step - loss: 0.6711 - accuracy: 0.5856\n",
            "Epoch 3/20\n",
            "30/30 [==============================] - 0s 917us/step - loss: 0.5133 - accuracy: 0.7135\n",
            "Epoch 4/20\n",
            "30/30 [==============================] - 0s 981us/step - loss: 0.3754 - accuracy: 0.9178\n",
            "Epoch 5/20\n",
            "30/30 [==============================] - 0s 946us/step - loss: 0.2647 - accuracy: 0.9623\n",
            "Epoch 6/20\n",
            "30/30 [==============================] - 0s 904us/step - loss: 0.1953 - accuracy: 0.9680\n",
            "Epoch 7/20\n",
            "30/30 [==============================] - 0s 895us/step - loss: 0.1505 - accuracy: 0.9760\n",
            "Epoch 8/20\n",
            "30/30 [==============================] - 0s 917us/step - loss: 0.1181 - accuracy: 0.9829\n",
            "Epoch 9/20\n",
            "30/30 [==============================] - 0s 913us/step - loss: 0.0956 - accuracy: 0.9806\n",
            "Epoch 10/20\n",
            "30/30 [==============================] - 0s 1ms/step - loss: 0.0775 - accuracy: 0.9840\n",
            "Epoch 11/20\n",
            "30/30 [==============================] - 0s 975us/step - loss: 0.0640 - accuracy: 0.9852\n",
            "Epoch 12/20\n",
            "30/30 [==============================] - 0s 894us/step - loss: 0.0539 - accuracy: 0.9909\n",
            "Epoch 13/20\n",
            "30/30 [==============================] - 0s 928us/step - loss: 0.0464 - accuracy: 0.9943\n",
            "Epoch 14/20\n",
            "30/30 [==============================] - 0s 926us/step - loss: 0.0404 - accuracy: 0.9943\n",
            "Epoch 15/20\n",
            "30/30 [==============================] - 0s 952us/step - loss: 0.0355 - accuracy: 0.9954\n",
            "Epoch 16/20\n",
            "30/30 [==============================] - 0s 953us/step - loss: 0.0312 - accuracy: 0.9966\n",
            "Epoch 17/20\n",
            "30/30 [==============================] - 0s 990us/step - loss: 0.0278 - accuracy: 0.9966\n",
            "Epoch 18/20\n",
            "30/30 [==============================] - 0s 995us/step - loss: 0.0247 - accuracy: 0.9989\n",
            "Epoch 19/20\n",
            "30/30 [==============================] - 0s 978us/step - loss: 0.0222 - accuracy: 0.9989\n",
            "Epoch 20/20\n",
            "30/30 [==============================] - 0s 951us/step - loss: 0.0199 - accuracy: 1.0000\n"
          ],
          "name": "stdout"
        },
        {
          "output_type": "execute_result",
          "data": {
            "text/plain": [
              "<tensorflow.python.keras.callbacks.History at 0x7fe9d9322ac8>"
            ]
          },
          "metadata": {
            "tags": []
          },
          "execution_count": 21
        }
      ]
    },
    {
      "cell_type": "markdown",
      "metadata": {
        "id": "vcQCFyCfFyA2"
      },
      "source": [
        "**4. Evaluate the model**"
      ]
    },
    {
      "cell_type": "code",
      "metadata": {
        "id": "HLOP47P0Fz9Y",
        "outputId": "547af0ab-d730-420e-f676-240d18cbe56c",
        "colab": {
          "base_uri": "https://localhost:8080/",
          "height": 52
        }
      },
      "source": [
        "model.evaluate(X_test, y_test)"
      ],
      "execution_count": null,
      "outputs": [
        {
          "output_type": "stream",
          "text": [
            "7/7 [==============================] - 0s 1ms/step - loss: 0.0166 - accuracy: 1.0000\n"
          ],
          "name": "stdout"
        },
        {
          "output_type": "execute_result",
          "data": {
            "text/plain": [
              "[0.016563642770051956, 1.0]"
            ]
          },
          "metadata": {
            "tags": []
          },
          "execution_count": 23
        }
      ]
    },
    {
      "cell_type": "markdown",
      "metadata": {
        "id": "his1CcUWCxLG"
      },
      "source": [
        "# Evaluate the test data set with our model."
      ]
    },
    {
      "cell_type": "markdown",
      "metadata": {
        "id": "Bv2cM9u3GCi1"
      },
      "source": [
        "**5. Make a Prediction**"
      ]
    },
    {
      "cell_type": "code",
      "metadata": {
        "id": "ciJANQacGBb0"
      },
      "source": [
        "test_data = pd.read_csv('https://raw.githubusercontent.com/dphi-official/Datasets/master/bank_note_data/testing_set_label.csv')"
      ],
      "execution_count": null,
      "outputs": []
    },
    {
      "cell_type": "code",
      "metadata": {
        "id": "Azg40pTVH2zN",
        "outputId": "4d8f2a66-5a46-4d5a-8f88-6f130839c1da",
        "colab": {
          "base_uri": "https://localhost:8080/",
          "height": 406
        }
      },
      "source": [
        "test_data"
      ],
      "execution_count": null,
      "outputs": [
        {
          "output_type": "execute_result",
          "data": {
            "text/html": [
              "<div>\n",
              "<style scoped>\n",
              "    .dataframe tbody tr th:only-of-type {\n",
              "        vertical-align: middle;\n",
              "    }\n",
              "\n",
              "    .dataframe tbody tr th {\n",
              "        vertical-align: top;\n",
              "    }\n",
              "\n",
              "    .dataframe thead th {\n",
              "        text-align: right;\n",
              "    }\n",
              "</style>\n",
              "<table border=\"1\" class=\"dataframe\">\n",
              "  <thead>\n",
              "    <tr style=\"text-align: right;\">\n",
              "      <th></th>\n",
              "      <th>VWTI</th>\n",
              "      <th>SWTI</th>\n",
              "      <th>CWTI</th>\n",
              "      <th>EI</th>\n",
              "    </tr>\n",
              "  </thead>\n",
              "  <tbody>\n",
              "    <tr>\n",
              "      <th>0</th>\n",
              "      <td>-0.40804</td>\n",
              "      <td>0.542140</td>\n",
              "      <td>-0.52725</td>\n",
              "      <td>0.658600</td>\n",
              "    </tr>\n",
              "    <tr>\n",
              "      <th>1</th>\n",
              "      <td>-3.71810</td>\n",
              "      <td>-8.508900</td>\n",
              "      <td>12.36300</td>\n",
              "      <td>-0.955180</td>\n",
              "    </tr>\n",
              "    <tr>\n",
              "      <th>2</th>\n",
              "      <td>5.50400</td>\n",
              "      <td>10.367100</td>\n",
              "      <td>-4.41300</td>\n",
              "      <td>-4.021100</td>\n",
              "    </tr>\n",
              "    <tr>\n",
              "      <th>3</th>\n",
              "      <td>1.68490</td>\n",
              "      <td>8.748900</td>\n",
              "      <td>-1.26410</td>\n",
              "      <td>-1.385800</td>\n",
              "    </tr>\n",
              "    <tr>\n",
              "      <th>4</th>\n",
              "      <td>4.74320</td>\n",
              "      <td>2.108600</td>\n",
              "      <td>0.13680</td>\n",
              "      <td>1.654300</td>\n",
              "    </tr>\n",
              "    <tr>\n",
              "      <th>...</th>\n",
              "      <td>...</td>\n",
              "      <td>...</td>\n",
              "      <td>...</td>\n",
              "      <td>...</td>\n",
              "    </tr>\n",
              "    <tr>\n",
              "      <th>270</th>\n",
              "      <td>-1.00500</td>\n",
              "      <td>0.084831</td>\n",
              "      <td>-0.24620</td>\n",
              "      <td>0.456880</td>\n",
              "    </tr>\n",
              "    <tr>\n",
              "      <th>271</th>\n",
              "      <td>2.21230</td>\n",
              "      <td>-5.839500</td>\n",
              "      <td>7.76870</td>\n",
              "      <td>-0.853020</td>\n",
              "    </tr>\n",
              "    <tr>\n",
              "      <th>272</th>\n",
              "      <td>4.38460</td>\n",
              "      <td>-4.879400</td>\n",
              "      <td>3.36620</td>\n",
              "      <td>-0.029324</td>\n",
              "    </tr>\n",
              "    <tr>\n",
              "      <th>273</th>\n",
              "      <td>3.88400</td>\n",
              "      <td>10.027700</td>\n",
              "      <td>-3.92980</td>\n",
              "      <td>-4.081900</td>\n",
              "    </tr>\n",
              "    <tr>\n",
              "      <th>274</th>\n",
              "      <td>3.88460</td>\n",
              "      <td>-3.033600</td>\n",
              "      <td>2.53340</td>\n",
              "      <td>0.202140</td>\n",
              "    </tr>\n",
              "  </tbody>\n",
              "</table>\n",
              "<p>275 rows × 4 columns</p>\n",
              "</div>"
            ],
            "text/plain": [
              "        VWTI       SWTI      CWTI        EI\n",
              "0   -0.40804   0.542140  -0.52725  0.658600\n",
              "1   -3.71810  -8.508900  12.36300 -0.955180\n",
              "2    5.50400  10.367100  -4.41300 -4.021100\n",
              "3    1.68490   8.748900  -1.26410 -1.385800\n",
              "4    4.74320   2.108600   0.13680  1.654300\n",
              "..       ...        ...       ...       ...\n",
              "270 -1.00500   0.084831  -0.24620  0.456880\n",
              "271  2.21230  -5.839500   7.76870 -0.853020\n",
              "272  4.38460  -4.879400   3.36620 -0.029324\n",
              "273  3.88400  10.027700  -3.92980 -4.081900\n",
              "274  3.88460  -3.033600   2.53340  0.202140\n",
              "\n",
              "[275 rows x 4 columns]"
            ]
          },
          "metadata": {
            "tags": []
          },
          "execution_count": 25
        }
      ]
    },
    {
      "cell_type": "code",
      "metadata": {
        "id": "AfFjeE3uGMIc"
      },
      "source": [
        "# make a prediction\n",
        "test_Pred=model.predict(test_data)"
      ],
      "execution_count": null,
      "outputs": []
    },
    {
      "cell_type": "code",
      "metadata": {
        "id": "Sqz8V8B0IVbz",
        "outputId": "b00fc21c-4d1f-4976-a446-6cc3b3e2c3a5",
        "colab": {
          "base_uri": "https://localhost:8080/",
          "height": 1000
        }
      },
      "source": [
        "# Convert the values from float to int for prediction submission\n",
        "test_Pred1 = np.rint(test_Pred)\n",
        "test_Pred1 = test_Pred1.astype(int)\n",
        "test_Pred1"
      ],
      "execution_count": null,
      "outputs": [
        {
          "output_type": "execute_result",
          "data": {
            "text/plain": [
              "array([[1],\n",
              "       [1],\n",
              "       [0],\n",
              "       [0],\n",
              "       [0],\n",
              "       [1],\n",
              "       [1],\n",
              "       [0],\n",
              "       [1],\n",
              "       [1],\n",
              "       [0],\n",
              "       [1],\n",
              "       [0],\n",
              "       [1],\n",
              "       [0],\n",
              "       [0],\n",
              "       [0],\n",
              "       [1],\n",
              "       [0],\n",
              "       [1],\n",
              "       [1],\n",
              "       [1],\n",
              "       [0],\n",
              "       [0],\n",
              "       [0],\n",
              "       [1],\n",
              "       [0],\n",
              "       [0],\n",
              "       [1],\n",
              "       [1],\n",
              "       [1],\n",
              "       [1],\n",
              "       [0],\n",
              "       [0],\n",
              "       [0],\n",
              "       [1],\n",
              "       [1],\n",
              "       [0],\n",
              "       [0],\n",
              "       [1],\n",
              "       [1],\n",
              "       [0],\n",
              "       [1],\n",
              "       [0],\n",
              "       [1],\n",
              "       [1],\n",
              "       [1],\n",
              "       [1],\n",
              "       [0],\n",
              "       [0],\n",
              "       [1],\n",
              "       [0],\n",
              "       [1],\n",
              "       [0],\n",
              "       [1],\n",
              "       [1],\n",
              "       [1],\n",
              "       [0],\n",
              "       [0],\n",
              "       [0],\n",
              "       [0],\n",
              "       [0],\n",
              "       [0],\n",
              "       [0],\n",
              "       [0],\n",
              "       [0],\n",
              "       [1],\n",
              "       [0],\n",
              "       [0],\n",
              "       [0],\n",
              "       [1],\n",
              "       [0],\n",
              "       [0],\n",
              "       [0],\n",
              "       [0],\n",
              "       [0],\n",
              "       [0],\n",
              "       [1],\n",
              "       [1],\n",
              "       [0],\n",
              "       [1],\n",
              "       [0],\n",
              "       [0],\n",
              "       [1],\n",
              "       [1],\n",
              "       [0],\n",
              "       [0],\n",
              "       [0],\n",
              "       [1],\n",
              "       [1],\n",
              "       [1],\n",
              "       [0],\n",
              "       [1],\n",
              "       [0],\n",
              "       [0],\n",
              "       [1],\n",
              "       [0],\n",
              "       [0],\n",
              "       [0],\n",
              "       [1],\n",
              "       [1],\n",
              "       [0],\n",
              "       [1],\n",
              "       [0],\n",
              "       [0],\n",
              "       [1],\n",
              "       [0],\n",
              "       [1],\n",
              "       [1],\n",
              "       [1],\n",
              "       [0],\n",
              "       [1],\n",
              "       [0],\n",
              "       [0],\n",
              "       [1],\n",
              "       [0],\n",
              "       [0],\n",
              "       [0],\n",
              "       [0],\n",
              "       [1],\n",
              "       [1],\n",
              "       [0],\n",
              "       [0],\n",
              "       [1],\n",
              "       [1],\n",
              "       [1],\n",
              "       [0],\n",
              "       [1],\n",
              "       [1],\n",
              "       [0],\n",
              "       [1],\n",
              "       [0],\n",
              "       [0],\n",
              "       [0],\n",
              "       [1],\n",
              "       [0],\n",
              "       [0],\n",
              "       [0],\n",
              "       [0],\n",
              "       [1],\n",
              "       [1],\n",
              "       [1],\n",
              "       [1],\n",
              "       [0],\n",
              "       [0],\n",
              "       [1],\n",
              "       [1],\n",
              "       [1],\n",
              "       [0],\n",
              "       [0],\n",
              "       [0],\n",
              "       [1],\n",
              "       [0],\n",
              "       [1],\n",
              "       [0],\n",
              "       [0],\n",
              "       [0],\n",
              "       [1],\n",
              "       [1],\n",
              "       [1],\n",
              "       [1],\n",
              "       [1],\n",
              "       [1],\n",
              "       [1],\n",
              "       [0],\n",
              "       [1],\n",
              "       [1],\n",
              "       [0],\n",
              "       [0],\n",
              "       [0],\n",
              "       [0],\n",
              "       [1],\n",
              "       [1],\n",
              "       [0],\n",
              "       [1],\n",
              "       [0],\n",
              "       [0],\n",
              "       [1],\n",
              "       [1],\n",
              "       [0],\n",
              "       [0],\n",
              "       [0],\n",
              "       [0],\n",
              "       [0],\n",
              "       [1],\n",
              "       [0],\n",
              "       [1],\n",
              "       [0],\n",
              "       [1],\n",
              "       [1],\n",
              "       [0],\n",
              "       [1],\n",
              "       [0],\n",
              "       [0],\n",
              "       [0],\n",
              "       [1],\n",
              "       [0],\n",
              "       [1],\n",
              "       [1],\n",
              "       [0],\n",
              "       [0],\n",
              "       [1],\n",
              "       [0],\n",
              "       [0],\n",
              "       [1],\n",
              "       [0],\n",
              "       [0],\n",
              "       [1],\n",
              "       [0],\n",
              "       [1],\n",
              "       [1],\n",
              "       [1],\n",
              "       [0],\n",
              "       [1],\n",
              "       [0],\n",
              "       [1],\n",
              "       [1],\n",
              "       [0],\n",
              "       [0],\n",
              "       [0],\n",
              "       [1],\n",
              "       [0],\n",
              "       [1],\n",
              "       [1],\n",
              "       [0],\n",
              "       [0],\n",
              "       [0],\n",
              "       [1],\n",
              "       [0],\n",
              "       [0],\n",
              "       [0],\n",
              "       [0],\n",
              "       [1],\n",
              "       [1],\n",
              "       [0],\n",
              "       [1],\n",
              "       [0],\n",
              "       [0],\n",
              "       [0],\n",
              "       [0],\n",
              "       [0],\n",
              "       [0],\n",
              "       [0],\n",
              "       [1],\n",
              "       [0],\n",
              "       [0],\n",
              "       [1],\n",
              "       [0],\n",
              "       [1],\n",
              "       [1],\n",
              "       [0],\n",
              "       [1],\n",
              "       [0],\n",
              "       [1],\n",
              "       [1],\n",
              "       [1],\n",
              "       [1],\n",
              "       [0],\n",
              "       [0],\n",
              "       [0],\n",
              "       [1],\n",
              "       [1],\n",
              "       [0],\n",
              "       [0],\n",
              "       [1],\n",
              "       [0],\n",
              "       [0],\n",
              "       [0],\n",
              "       [0],\n",
              "       [1],\n",
              "       [1],\n",
              "       [0],\n",
              "       [0],\n",
              "       [0],\n",
              "       [0]])"
            ]
          },
          "metadata": {
            "tags": []
          },
          "execution_count": 27
        }
      ]
    },
    {
      "cell_type": "code",
      "metadata": {
        "id": "wXtO1tELG0TZ",
        "outputId": "fde09a45-4bb8-49c3-ecd0-8de552d8c015",
        "colab": {
          "base_uri": "https://localhost:8080/",
          "height": 16
        }
      },
      "source": [
        "#to create a file for prediction - RFC model result\n",
        "result = pd.DataFrame(test_Pred1)\n",
        "result.index= test_data.index\n",
        "result.columns = ['Prediction']\n",
        "\n",
        "#to download file locally\n",
        "from google.colab import files\n",
        "result.to_csv('FakeNote.csv')\n",
        "files.download('FakeNote.csv')"
      ],
      "execution_count": null,
      "outputs": [
        {
          "output_type": "display_data",
          "data": {
            "application/javascript": [
              "\n",
              "    async function download(id, filename, size) {\n",
              "      if (!google.colab.kernel.accessAllowed) {\n",
              "        return;\n",
              "      }\n",
              "      const div = document.createElement('div');\n",
              "      const label = document.createElement('label');\n",
              "      label.textContent = `Downloading \"${filename}\": `;\n",
              "      div.appendChild(label);\n",
              "      const progress = document.createElement('progress');\n",
              "      progress.max = size;\n",
              "      div.appendChild(progress);\n",
              "      document.body.appendChild(div);\n",
              "\n",
              "      const buffers = [];\n",
              "      let downloaded = 0;\n",
              "\n",
              "      const channel = await google.colab.kernel.comms.open(id);\n",
              "      // Send a message to notify the kernel that we're ready.\n",
              "      channel.send({})\n",
              "\n",
              "      for await (const message of channel.messages) {\n",
              "        // Send a message to notify the kernel that we're ready.\n",
              "        channel.send({})\n",
              "        if (message.buffers) {\n",
              "          for (const buffer of message.buffers) {\n",
              "            buffers.push(buffer);\n",
              "            downloaded += buffer.byteLength;\n",
              "            progress.value = downloaded;\n",
              "          }\n",
              "        }\n",
              "      }\n",
              "      const blob = new Blob(buffers, {type: 'application/binary'});\n",
              "      const a = document.createElement('a');\n",
              "      a.href = window.URL.createObjectURL(blob);\n",
              "      a.download = filename;\n",
              "      div.appendChild(a);\n",
              "      a.click();\n",
              "      div.remove();\n",
              "    }\n",
              "  "
            ],
            "text/plain": [
              "<IPython.core.display.Javascript object>"
            ]
          },
          "metadata": {
            "tags": []
          }
        },
        {
          "output_type": "display_data",
          "data": {
            "application/javascript": [
              "download(\"download_6837a310-c11c-4ced-b325-788a0be423a0\", \"FakeNote.csv\", 1552)"
            ],
            "text/plain": [
              "<IPython.core.display.Javascript object>"
            ]
          },
          "metadata": {
            "tags": []
          }
        }
      ]
    }
  ]
}